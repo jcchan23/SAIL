{
 "cells": [
  {
   "cell_type": "code",
   "execution_count": 1,
   "metadata": {},
   "outputs": [],
   "source": [
    "import numpy as np\n",
    "from tqdm import tqdm_notebook\n",
    "import seaborn as sns\n",
    "import matplotlib.pyplot as plt"
   ]
  },
  {
   "cell_type": "code",
   "execution_count": 2,
   "metadata": {},
   "outputs": [],
   "source": [
    "id2amino = {\n",
    "    0: 'A', 1: 'R', 2: 'N', 3: 'D', 4: 'C',\n",
    "    5: 'Q', 6: 'E', 7: 'G', 8: 'H', 9: 'I',\n",
    "    10: 'L', 11: 'K', 12: 'M', 13: 'F', 14: 'P',\n",
    "    15: 'S', 16: 'T', 17: 'W', 18: 'Y', 19: 'V'\n",
    "}\n",
    "\n",
    "amino2id = {\n",
    "    'A': 0, 'R': 1, 'N': 2, 'D': 3, 'C': 4,\n",
    "    'Q': 5, 'E': 6, 'G': 7, 'H': 8, 'I': 9,\n",
    "    'L': 10, 'K': 11, 'M': 12, 'F': 13, 'P': 14,\n",
    "    'S': 15, 'T': 16, 'W': 17, 'Y': 18, 'V': 19\n",
    "}"
   ]
  },
  {
   "cell_type": "code",
   "execution_count": 3,
   "metadata": {},
   "outputs": [],
   "source": [
    "with open('./data/train_valid_list', 'r') as tvf, open('./data/test_list', 'r') as tf:\n",
    "    tvf_lines = tvf.readlines()\n",
    "    tf_lines = tf.readlines()\n",
    "\n",
    "tvf_data_list = [d.strip() for d in tvf_lines]\n",
    "tf_data_list = [d.strip() for d in tf_lines]"
   ]
  },
  {
   "cell_type": "code",
   "execution_count": 4,
   "metadata": {},
   "outputs": [
    {
     "data": {
      "application/vnd.jupyter.widget-view+json": {
       "model_id": "288ac4b1ae544cd7985b853f18e1960f",
       "version_major": 2,
       "version_minor": 0
      },
      "text/plain": [
       "HBox(children=(IntProgress(value=0, max=7134), HTML(value='')))"
      ]
     },
     "metadata": {},
     "output_type": "display_data"
    },
    {
     "name": "stdout",
     "output_type": "stream",
     "text": [
      "\n"
     ]
    }
   ],
   "source": [
    "tvf_ratio_list = list()\n",
    "for pdb in tqdm_notebook(tvf_data_list):\n",
    "    target = np.load(f'./data/target/{pdb}.npy')\n",
    "    graph = np.load(f'./data/pf2/{pdb}.npy')\n",
    "    ratio_matrix = np.zeros((20, 20))\n",
    "\n",
    "    row_index, column_index = np.where(graph >= 2 / 3)\n",
    "\n",
    "    for row, column in zip(row_index, column_index):\n",
    "        row_amino, column_amino = target[row], target[column]\n",
    "        ratio_matrix[int(row_amino)][int(column_amino)] += 1\n",
    "\n",
    "    h = ratio_matrix.trace() / np.sum(ratio_matrix)\n",
    "    tvf_ratio_list.append(h)"
   ]
  },
  {
   "cell_type": "code",
   "execution_count": 5,
   "metadata": {},
   "outputs": [
    {
     "data": {
      "application/vnd.jupyter.widget-view+json": {
       "model_id": "298c184df3de4ed3a3adc0c826794587",
       "version_major": 2,
       "version_minor": 0
      },
      "text/plain": [
       "HBox(children=(IntProgress(value=0, max=922), HTML(value='')))"
      ]
     },
     "metadata": {},
     "output_type": "display_data"
    },
    {
     "name": "stdout",
     "output_type": "stream",
     "text": [
      "\n"
     ]
    }
   ],
   "source": [
    "tf_ratio_list = list()\n",
    "for pdb in tqdm_notebook(tf_data_list):\n",
    "    target = np.load(f'./data/target/{pdb}.npy')\n",
    "    graph = np.load(f'./data/pf2/{pdb}.npy')\n",
    "    ratio_matrix = np.zeros((20, 20))\n",
    "\n",
    "    row_index, column_index = np.where(graph >= 2 / 3)\n",
    "\n",
    "    for row, column in zip(row_index, column_index):\n",
    "        row_amino, column_amino = target[row], target[column]\n",
    "        ratio_matrix[int(row_amino)][int(column_amino)] += 1\n",
    "\n",
    "    h = ratio_matrix.trace() / np.sum(ratio_matrix)\n",
    "    tf_ratio_list.append(h)"
   ]
  },
  {
   "cell_type": "code",
   "execution_count": 16,
   "metadata": {},
   "outputs": [
    {
     "data": {
      "image/png": "[encoded data removed]",
      "text/plain": [
       "<Figure size 432x288 with 1 Axes>"
      ]
     },
     "metadata": {
      "needs_background": "light"
     },
     "output_type": "display_data"
    }
   ],
   "source": [
    "tvf_ax = sns.distplot(tvf_ratio_list, kde=False, norm_hist=False)\n",
    "tvf_png = tvf_ax.get_figure()\n",
    "tvf_png.savefig('train_ratio.png', dpi=400)"
   ]
  },
  {
   "cell_type": "code",
   "execution_count": 17,
   "metadata": {},
   "outputs": [
    {
     "data": {
      "image/png": "[encoded data removed]",
      "text/plain": [
       "<Figure size 432x288 with 1 Axes>"
      ]
     },
     "metadata": {
      "needs_background": "light"
     },
     "output_type": "display_data"
    }
   ],
   "source": [
    "tf_ax = sns.distplot(tf_ratio_list, kde=False, norm_hist=False)\n",
    "tf_png = tf_ax.get_figure()\n",
    "tf_png.savefig('test_ratio.png', dpi=400)"
   ]
  },
  {
   "cell_type": "code",
   "execution_count": 19,
   "metadata": {},
   "outputs": [
    {
     "data": {
      "image/png": "[encoded data removed]",
      "text/plain": [
       "<Figure size 432x288 with 1 Axes>"
      ]
     },
     "metadata": {
      "needs_background": "light"
     },
     "output_type": "display_data"
    }
   ],
   "source": [
    "total_ratio_list = tvf_ratio_list + tf_ratio_list\n",
    "total_ax = sns.distplot(total_ratio_list, kde=False, norm_hist=False)\n",
    "total_png = total_ax.get_figure()\n",
    "total_png.savefig('total_ratio.png', dpi=400)"
   ]
  },
  {
   "cell_type": "code",
   "execution_count": 23,
   "metadata": {},
   "outputs": [
    {
     "name": "stdout",
     "output_type": "stream",
     "text": [
      "total number of list = 8056\n",
      "median ratio = 0.15947912182818133\n",
      "min ratio = 0.12904453749524172\n",
      "max ratio = 0.3132075471698113\n",
      "average ratio = 0.16155283663502734\n",
      "std ratio = 0.013932286620054652\n"
     ]
    }
   ],
   "source": [
    "print(f'total number of list = {len(total_ratio_list)}')\n",
    "print(f'median ratio = {np.median(total_ratio_list)}')\n",
    "print(f'min ratio = {min(total_ratio_list)}')\n",
    "print(f'max ratio = {max(total_ratio_list)}')\n",
    "print(f'average ratio = {np.mean(total_ratio_list)}')\n",
    "print(f'std ratio = {np.std(total_ratio_list)}')"
   ]
  },
  {
   "cell_type": "code",
   "execution_count": null,
   "metadata": {},
   "outputs": [],
   "source": []
  }
 ],
 "metadata": {
  "kernelspec": {
   "display_name": "Python 3",
   "language": "python",
   "name": "python3"
  },
  "language_info": {
   "codemirror_mode": {
    "name": "ipython",
    "version": 3
   },
   "file_extension": ".py",
   "mimetype": "text/x-python",
   "name": "python",
   "nbconvert_exporter": "python",
   "pygments_lexer": "ipython3",
   "version": "3.7.3"
  }
 },
 "nbformat": 4,
 "nbformat_minor": 2
}
